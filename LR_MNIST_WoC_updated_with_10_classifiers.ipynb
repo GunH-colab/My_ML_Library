{
 "cells": [
  {
   "cell_type": "code",
   "execution_count": 1,
   "metadata": {},
   "outputs": [],
   "source": [
    "from sklearn.datasets import load_digits\n",
    "from sklearn.model_selection import train_test_split\n",
    "import numpy as np\n",
    "import matplotlib.pyplot as plt"
   ]
  },
  {
   "cell_type": "code",
   "execution_count": 3,
   "metadata": {},
   "outputs": [
    {
     "data": {
      "image/png": "[encoded data removed]",
      "text/plain": [
       "<Figure size 432x288 with 9 Axes>"
      ]
     },
     "metadata": {
      "needs_background": "light"
     },
     "output_type": "display_data"
    }
   ],
   "source": [
    "digits = load_digits()\n",
    "\n",
    "f, axis = plt.subplots(3,3)\n",
    "axis[0,0].imshow(digits.images[0])\n",
    "axis[0,1].imshow(digits.images[1])\n",
    "axis[0,2].imshow(digits.images[2])\n",
    "axis[1,0].imshow(digits.images[3])\n",
    "axis[1,1].imshow(digits.images[4])\n",
    "axis[1,2].imshow(digits.images[5])\n",
    "axis[2,0].imshow(digits.images[6])\n",
    "axis[2,1].imshow(digits.images[7])\n",
    "axis[2,2].imshow(digits.images[8])\n",
    "plt.show()"
   ]
  },
  {
   "cell_type": "code",
   "execution_count": 4,
   "metadata": {},
   "outputs": [
    {
     "data": {
      "text/plain": [
       "<matplotlib.image.AxesImage at 0x173bb8109c8>"
      ]
     },
     "execution_count": 4,
     "metadata": {},
     "output_type": "execute_result"
    },
    {
     "data": {
      "image/png": "[encoded data removed]",
      "text/plain": [
       "<Figure size 432x288 with 1 Axes>"
      ]
     },
     "metadata": {
      "needs_background": "light"
     },
     "output_type": "display_data"
    }
   ],
   "source": [
    "plt.imshow(digits.images[9]) "
   ]
  },
  {
   "cell_type": "code",
   "execution_count": 5,
   "metadata": {},
   "outputs": [],
   "source": [
    "class LogisticRegression():     # Class for training and using a model for logistic regression\n",
    "    \n",
    "    \n",
    "    def set_values(self, initial_params, alpha=0.01, max_iter=5000, class_of_interest=0): \n",
    "        \n",
    "        #using self as it increases the readibility of the code\n",
    "        \n",
    "        #Setting the values \n",
    "        \n",
    "        self.params = initial_params                          # initial params\n",
    "        self.alpha = alpha                                    # step size \n",
    "        self.max_iter = max_iter                              # maximum iteration\n",
    "        self.class_of_interest = class_of_interest            #class of interest\n",
    "        \n",
    "    \n",
    "    @staticmethod\n",
    "    def _sigmoid(x): #Sigmoid function block\n",
    "        \n",
    "        \n",
    "        return 1.0 / (1.0 + np.exp(-x))\n",
    "    \n",
    "    def predict(self, x_bar, params): #predict the probability of a class\n",
    "        \n",
    "                \n",
    "        return self._sigmoid(np.dot(params, x_bar))\n",
    "    \n",
    "    def _compute_cost(self, input_var, output_var, params): #cost function block\n",
    "        \n",
    "        \n",
    "        cost = 0\n",
    "        for x, y in zip(input_var, output_var): #to map the similar index of two arrays\n",
    "            x_bar = np.array(np.insert(x, 0, 1))\n",
    "            y_hat = self.predict(x_bar, params)\n",
    "            \n",
    "            y_binary = 1.0 if y == self.class_of_interest else 0.0\n",
    "            cost += y_binary * np.log(y_hat) + (1.0 - y_binary) * np.log(1 - y_hat)\n",
    "            \n",
    "        return cost\n",
    "    \n",
    "    def train(self, input_var, label, print_iter = 5000):\n",
    "        \n",
    "        \n",
    "        iteration = 1\n",
    "        while iteration < self.max_iter:\n",
    "            if iteration % print_iter == 0:\n",
    "                print(f'iteration: {iteration}')\n",
    "                print(f'cost: {self._compute_cost(input_var, label, self.params)}')\n",
    "                print('--------------------------------------------')\n",
    "            \n",
    "            for i, xy in enumerate(zip(input_var, label)): \n",
    "                x_bar = np.array(np.insert(xy[0], 0, 1))\n",
    "                y_hat = self.predict(x_bar, self.params)\n",
    "                \n",
    "                y_binary = 1.0 if xy[1] == self.class_of_interest else 0.0\n",
    "                gradient = (y_binary - y_hat) * x_bar\n",
    "                self.params += self.alpha * gradient\n",
    "            \n",
    "            iteration +=1\n",
    "        \n",
    "        return self.params\n",
    "\n",
    "    def test(self, input_test, label_test):\n",
    "       # Testing the accuracy of the model using test data\n",
    "        self.total_classifications = 0\n",
    "        self.correct_classifications = 0\n",
    "        \n",
    "        for x,y in zip(input_test, label_test):\n",
    "            self.total_classifications += 1\n",
    "            x_bar = np.array(np.insert(x, 0, 1))\n",
    "            y_hat = self.predict(x_bar, self.params)\n",
    "            y_binary = 1.0 if y == self.class_of_interest else 0.0\n",
    "            \n",
    "            if y_hat >= 0.5 and  y_binary == 1:\n",
    "                # correct classification of class_of_interest\n",
    "                self.correct_classifications += 1\n",
    "              \n",
    "            if y_hat < 0.5 and  y_binary != 1:\n",
    "                # correct classification of an other class\n",
    "                self.correct_classifications += 1\n",
    "                \n",
    "        self.accuracy = self.correct_classifications / self.total_classifications\n",
    "            \n",
    "        return self.accuracy"
   ]
  },
  {
   "cell_type": "code",
   "execution_count": 6,
   "metadata": {},
   "outputs": [],
   "source": [
    "# splitting the data to training and test sets\n",
    "digits_train, digits_test, digits_label_train, digits_label_test =\\\n",
    "train_test_split(digits.data, digits.target, test_size=0.20)"
   ]
  },
  {
   "cell_type": "code",
   "execution_count": 7,
   "metadata": {},
   "outputs": [
    {
     "name": "stdout",
     "output_type": "stream",
     "text": [
      "iteration: 1000\n",
      "cost: -1.6188049463746355\n",
      "--------------------------------------------\n",
      "iteration: 2000\n",
      "cost: -0.9102805371971725\n",
      "--------------------------------------------\n",
      "iteration: 3000\n",
      "cost: -0.6415281915982594\n",
      "--------------------------------------------\n",
      "iteration: 4000\n",
      "cost: -0.4978803206881576\n",
      "--------------------------------------------\n",
      "iteration: 5000\n",
      "cost: -0.4078857925150353\n",
      "--------------------------------------------\n",
      "iteration: 6000\n",
      "cost: -0.3459961330828373\n",
      "--------------------------------------------\n",
      "iteration: 7000\n",
      "cost: -0.3007257572193002\n",
      "--------------------------------------------\n",
      "iteration: 8000\n",
      "cost: -0.26612298649090405\n",
      "--------------------------------------------\n",
      "iteration: 9000\n",
      "cost: -0.23878687276922336\n",
      "--------------------------------------------\n"
     ]
    }
   ],
   "source": [
    "# training a classifier for the ZERO digit\n",
    "alpha = 1e-2\n",
    "params_0 = np.zeros(len(digits.data[0]) + 1)\n",
    "\n",
    "max_iter = 10000\n",
    "digits_regression_model_0 = LogisticRegression()\n",
    "digits_regression_model_0.set_values(params_0, alpha, max_iter, 0)\n",
    "\n",
    "params =\\\n",
    "digits_regression_model_0.train(digits_train / 16.0, digits_label_train, 1000)"
   ]
  },
  {
   "cell_type": "code",
   "execution_count": 8,
   "metadata": {},
   "outputs": [
    {
     "name": "stdout",
     "output_type": "stream",
     "text": [
      "Accuracy of prediciting a ZERO digit in test set: 0.9944444444444445\n"
     ]
    }
   ],
   "source": [
    "# accuracy\n",
    "digits_accuracy = digits_regression_model_0.test(digits_test / 16.0, digits_label_test)\n",
    "print(f'Accuracy of prediciting a ZERO digit in test set: {digits_accuracy}')"
   ]
  },
  {
   "cell_type": "code",
   "execution_count": 9,
   "metadata": {},
   "outputs": [
    {
     "name": "stdout",
     "output_type": "stream",
     "text": [
      "iteration: 1000\n",
      "cost: -32.89496676952286\n",
      "--------------------------------------------\n",
      "iteration: 2000\n",
      "cost: -26.09004889771969\n",
      "--------------------------------------------\n",
      "iteration: 3000\n",
      "cost: -22.667628752915576\n",
      "--------------------------------------------\n",
      "iteration: 4000\n",
      "cost: -20.447631870618128\n",
      "--------------------------------------------\n",
      "iteration: 5000\n",
      "cost: -18.825950788084903\n",
      "--------------------------------------------\n",
      "iteration: 6000\n",
      "cost: -17.557090219576743\n",
      "--------------------------------------------\n",
      "iteration: 7000\n",
      "cost: -16.51915702899838\n",
      "--------------------------------------------\n",
      "iteration: 8000\n",
      "cost: -15.643523067240235\n",
      "--------------------------------------------\n",
      "iteration: 9000\n",
      "cost: -14.888026363848862\n",
      "--------------------------------------------\n"
     ]
    }
   ],
   "source": [
    "# training a classifier for the ONE digit\n",
    "alpha = 1e-2\n",
    "params_0 = np.zeros(len(digits.data[0]) + 1)\n",
    "\n",
    "max_iter = 10000\n",
    "digits_regression_model_1 = LogisticRegression()\n",
    "digits_regression_model_1.set_values(params_0, alpha, max_iter, 1)\n",
    "\n",
    "params =\\\n",
    "digits_regression_model_1.train(digits_train / 16.0, digits_label_train, 1000)"
   ]
  },
  {
   "cell_type": "code",
   "execution_count": 10,
   "metadata": {},
   "outputs": [
    {
     "name": "stdout",
     "output_type": "stream",
     "text": [
      "Accuracy of prediciting a ONE digit in test set: 0.9777777777777777\n"
     ]
    }
   ],
   "source": [
    "#accuracy\n",
    "digits_accuracy = digits_regression_\n",
    "model_1.test(digits_test / 16.0, digits_label_test)\n",
    "print(f'Accuracy of prediciting a ONE digit in test set: {digits_accuracy}')"
   ]
  },
  {
   "cell_type": "code",
   "execution_count": 11,
   "metadata": {},
   "outputs": [
    {
     "name": "stdout",
     "output_type": "stream",
     "text": [
      "iteration: 1000\n",
      "cost: -2.9011462307044393\n",
      "--------------------------------------------\n",
      "iteration: 2000\n",
      "cost: -1.61598079729941\n",
      "--------------------------------------------\n",
      "iteration: 3000\n",
      "cost: -1.1365444730148377\n",
      "--------------------------------------------\n",
      "iteration: 4000\n",
      "cost: -0.881885193686448\n",
      "--------------------------------------------\n",
      "iteration: 5000\n",
      "cost: -0.7228150512110911\n",
      "--------------------------------------------\n",
      "iteration: 6000\n",
      "cost: -0.6135851851351486\n",
      "--------------------------------------------\n",
      "iteration: 7000\n",
      "cost: -0.5337448297073993\n",
      "--------------------------------------------\n",
      "iteration: 8000\n",
      "cost: -0.4727355090035416\n",
      "--------------------------------------------\n",
      "iteration: 9000\n",
      "cost: -0.4245389788036981\n",
      "--------------------------------------------\n"
     ]
    }
   ],
   "source": [
    "# training a classifier for the TWO digit\n",
    "alpha = 1e-2\n",
    "params_2 = np.zeros(len(digits.data[0]) + 1)\n",
    "\n",
    "max_iter = 10000\n",
    "digits_regression_model_2 = LogisticRegression()\n",
    "digits_regression_model_2.set_values(params_2, alpha, max_iter, 2)\n",
    "\n",
    "params =\\\n",
    "digits_regression_model_2.train(digits_train / 16.0, digits_label_train, 1000)"
   ]
  },
  {
   "cell_type": "code",
   "execution_count": 13,
   "metadata": {},
   "outputs": [
    {
     "name": "stdout",
     "output_type": "stream",
     "text": [
      "Accuracy of prediciting a TWO digit in test set: 1.0\n"
     ]
    }
   ],
   "source": [
    "#accuracy\n",
    "digits_accuracy = digits_regression_model_2.test(digits_test / 16.0, digits_label_test)\n",
    "print(f'Accuracy of prediciting a TWO digit in test set: {digits_accuracy}')"
   ]
  },
  {
   "cell_type": "code",
   "execution_count": 21,
   "metadata": {},
   "outputs": [
    {
     "name": "stdout",
     "output_type": "stream",
     "text": [
      "iteration: 1000\n",
      "cost: -12.820339300327655\n",
      "--------------------------------------------\n",
      "iteration: 2000\n",
      "cost: -8.857864268866702\n",
      "--------------------------------------------\n",
      "iteration: 3000\n",
      "cost: -6.956523234870908\n",
      "--------------------------------------------\n",
      "iteration: 4000\n",
      "cost: -5.782692617766531\n",
      "--------------------------------------------\n",
      "iteration: 5000\n",
      "cost: -4.969072343457758\n",
      "--------------------------------------------\n",
      "iteration: 6000\n",
      "cost: -4.365541736898545\n",
      "--------------------------------------------\n",
      "iteration: 7000\n",
      "cost: -3.897354411557587\n",
      "--------------------------------------------\n",
      "iteration: 8000\n",
      "cost: -3.522337463202784\n",
      "--------------------------------------------\n",
      "iteration: 9000\n",
      "cost: -3.214577222876764\n",
      "--------------------------------------------\n",
      "Accuracy of prediciting a THREE digit in test set: 0.9527777777777777\n"
     ]
    }
   ],
   "source": [
    "# training a classifier for the THREE digit\n",
    "alpha = 1e-2\n",
    "params_3 = np.zeros(len(digits.data[0]) + 1)\n",
    "\n",
    "max_iter = 10000\n",
    "digits_regression_model_3 = LogisticRegression()\n",
    "digits_regression_model_3.set_values(params_2, alpha, max_iter, 3)\n",
    "\n",
    "params =\\\n",
    "digits_regression_model_3.train(digits_train / 16.0, digits_label_train, 1000)\n",
    "\n",
    "#accuracy\n",
    "digits_accuracy = digits_regression_model_3.test(digits_test / 16.0, digits_label_test)\n",
    "print(f'Accuracy of prediciting a THREE digit in test set: {digits_accuracy}')"
   ]
  },
  {
   "cell_type": "code",
   "execution_count": 22,
   "metadata": {},
   "outputs": [
    {
     "name": "stdout",
     "output_type": "stream",
     "text": [
      "iteration: 1000\n",
      "cost: -4.564547558642502\n",
      "--------------------------------------------\n",
      "iteration: 2000\n",
      "cost: -2.6910855575868826\n",
      "--------------------------------------------\n",
      "iteration: 3000\n",
      "cost: -1.9420321048473457\n",
      "--------------------------------------------\n",
      "iteration: 4000\n",
      "cost: -1.5300756612585802\n",
      "--------------------------------------------\n",
      "iteration: 5000\n",
      "cost: -1.2670913149197198\n",
      "--------------------------------------------\n",
      "iteration: 6000\n",
      "cost: -1.0837262077883765\n",
      "--------------------------------------------\n",
      "iteration: 7000\n",
      "cost: -0.9481487809899838\n",
      "--------------------------------------------\n",
      "iteration: 8000\n",
      "cost: -0.8436075954927039\n",
      "--------------------------------------------\n",
      "iteration: 9000\n",
      "cost: -0.760412717743916\n",
      "--------------------------------------------\n",
      "Accuracy of prediciting a TWO digit in test set: 0.9972222222222222\n"
     ]
    }
   ],
   "source": [
    "# training a classifier for the FOUR digit\n",
    "alpha = 1e-2\n",
    "params_4 = np.zeros(len(digits.data[0]) + 1)\n",
    "\n",
    "max_iter = 10000\n",
    "digits_regression_model_4 = LogisticRegression()\n",
    "digits_regression_model_4.set_values(params_4, alpha, max_iter, 4)\n",
    "\n",
    "params =\\\n",
    "digits_regression_model_4.train(digits_train / 16.0, digits_label_train, 1000)\n",
    "\n",
    "#accuracy\n",
    "digits_accuracy = digits_regression_model_4.test(digits_test / 16.0, digits_label_test)\n",
    "print(f'Accuracy of prediciting a FOUR digit in test set: {digits_accuracy}')"
   ]
  },
  {
   "cell_type": "code",
   "execution_count": 23,
   "metadata": {},
   "outputs": [
    {
     "name": "stdout",
     "output_type": "stream",
     "text": [
      "iteration: 1000\n",
      "cost: -9.74935852241987\n",
      "--------------------------------------------\n",
      "iteration: 2000\n",
      "cost: -6.121680421763806\n",
      "--------------------------------------------\n",
      "iteration: 3000\n",
      "cost: -4.535277608304822\n",
      "--------------------------------------------\n",
      "iteration: 4000\n",
      "cost: -3.6229599707744073\n",
      "--------------------------------------------\n",
      "iteration: 5000\n",
      "cost: -3.0245621157872553\n",
      "--------------------------------------------\n",
      "iteration: 6000\n",
      "cost: -2.599866446147323\n",
      "--------------------------------------------\n",
      "iteration: 7000\n",
      "cost: -2.282010577753134\n",
      "--------------------------------------------\n",
      "iteration: 8000\n",
      "cost: -2.0347948571776113\n",
      "--------------------------------------------\n",
      "iteration: 9000\n",
      "cost: -1.836819978411585\n",
      "--------------------------------------------\n",
      "Accuracy of prediciting a FIVE digit in test set: 0.9888888888888889\n"
     ]
    }
   ],
   "source": [
    "# training a classifier for the FIVE digit\n",
    "alpha = 1e-2\n",
    "params_5 = np.zeros(len(digits.data[0]) + 1)\n",
    "\n",
    "max_iter = 10000\n",
    "digits_regression_model_5 = LogisticRegression()\n",
    "digits_regression_model_5.set_values(params_5, alpha, max_iter, 5)\n",
    "\n",
    "params =\\\n",
    "digits_regression_model_5.train(digits_train / 16.0, digits_label_train, 1000)\n",
    "\n",
    "#accuracy\n",
    "digits_accuracy = digits_regression_model_5.test(digits_test / 16.0, digits_label_test)\n",
    "print(f'Accuracy of prediciting a FIVE digit in test set: {digits_accuracy}')"
   ]
  },
  {
   "cell_type": "code",
   "execution_count": 25,
   "metadata": {},
   "outputs": [
    {
     "name": "stdout",
     "output_type": "stream",
     "text": [
      "iteration: 1000\n",
      "cost: -4.723904723413962\n",
      "--------------------------------------------\n",
      "iteration: 2000\n",
      "cost: -2.687361430417581\n",
      "--------------------------------------------\n",
      "iteration: 3000\n",
      "cost: -1.898351182055762\n",
      "--------------------------------------------\n",
      "iteration: 4000\n",
      "cost: -1.4737838261289233\n",
      "--------------------------------------------\n",
      "iteration: 5000\n",
      "cost: -1.2071070780629953\n",
      "--------------------------------------------\n",
      "iteration: 6000\n",
      "cost: -1.0235332374896777\n",
      "--------------------------------------------\n",
      "iteration: 7000\n",
      "cost: -0.8892200954524749\n",
      "--------------------------------------------\n",
      "iteration: 8000\n",
      "cost: -0.7865657495819326\n",
      "--------------------------------------------\n",
      "iteration: 9000\n",
      "cost: -0.7054898515176432\n",
      "--------------------------------------------\n",
      "Accuracy of prediciting a SIX digit in test set: 0.9972222222222222\n"
     ]
    }
   ],
   "source": [
    "# training a classifier for the SIX digit\n",
    "alpha = 1e-2\n",
    "params_6 = np.zeros(len(digits.data[0]) + 1)\n",
    "\n",
    "max_iter = 10000\n",
    "digits_regression_model_6 = LogisticRegression()\n",
    "digits_regression_model_6.set_values(params_6, alpha, max_iter, 6)\n",
    "\n",
    "params =\\\n",
    "digits_regression_model_6.train(digits_train / 16.0, digits_label_train, 1000)\n",
    "\n",
    "#accuracy\n",
    "digits_accuracy = digits_regression_model_6.test(digits_test / 16.0, digits_label_test)\n",
    "print(f'Accuracy of prediciting a SIX digit in test set: {digits_accuracy}')"
   ]
  },
  {
   "cell_type": "code",
   "execution_count": 27,
   "metadata": {},
   "outputs": [
    {
     "name": "stdout",
     "output_type": "stream",
     "text": [
      "iteration: 1000\n",
      "cost: -5.87309143053808\n",
      "--------------------------------------------\n",
      "iteration: 2000\n",
      "cost: -3.4826499229563455\n",
      "--------------------------------------------\n",
      "iteration: 3000\n",
      "cost: -2.498574302390273\n",
      "--------------------------------------------\n",
      "iteration: 4000\n",
      "cost: -1.9547765456783937\n",
      "--------------------------------------------\n",
      "iteration: 5000\n",
      "cost: -1.6082902785733204\n",
      "--------------------------------------------\n",
      "iteration: 6000\n",
      "cost: -1.3676712816830208\n",
      "--------------------------------------------\n",
      "iteration: 7000\n",
      "cost: -1.1905741920962873\n",
      "--------------------------------------------\n",
      "iteration: 8000\n",
      "cost: -1.0546425943586801\n",
      "--------------------------------------------\n",
      "iteration: 9000\n",
      "cost: -0.9469397470471853\n",
      "--------------------------------------------\n",
      "Accuracy of prediciting a SEVEN digit in test set: 0.9944444444444445\n"
     ]
    }
   ],
   "source": [
    "# training a classifier for the SEVEN digit\n",
    "alpha = 1e-2\n",
    "params_7 = np.zeros(len(digits.data[0]) + 1)\n",
    "\n",
    "max_iter = 10000\n",
    "digits_regression_model_7 = LogisticRegression()\n",
    "digits_regression_model_7.set_values(params_7, alpha, max_iter, 7)\n",
    "\n",
    "params =\\\n",
    "digits_regression_model_7.train(digits_train / 16.0, digits_label_train, 1000)\n",
    "\n",
    "#accuracy\n",
    "digits_accuracy = digits_regression_model_7.test(digits_test / 16.0, digits_label_test)\n",
    "print(f'Accuracy of prediciting a SEVEN digit in test set: {digits_accuracy}')"
   ]
  },
  {
   "cell_type": "code",
   "execution_count": 28,
   "metadata": {},
   "outputs": [
    {
     "name": "stdout",
     "output_type": "stream",
     "text": [
      "iteration: 1000\n",
      "cost: -103.3361824857824\n",
      "--------------------------------------------\n",
      "iteration: 2000\n",
      "cost: -100.93167566162265\n",
      "--------------------------------------------\n",
      "iteration: 3000\n",
      "cost: -100.22694004483888\n",
      "--------------------------------------------\n",
      "iteration: 4000\n",
      "cost: -99.92926479744887\n",
      "--------------------------------------------\n",
      "iteration: 5000\n",
      "cost: -99.7659600420248\n",
      "--------------------------------------------\n",
      "iteration: 6000\n",
      "cost: -99.6554035112111\n",
      "--------------------------------------------\n",
      "iteration: 7000\n",
      "cost: -99.56868403195826\n",
      "--------------------------------------------\n",
      "iteration: 8000\n",
      "cost: -99.49434334439944\n",
      "--------------------------------------------\n",
      "iteration: 9000\n",
      "cost: -99.42740582291476\n",
      "--------------------------------------------\n",
      "Accuracy of prediciting an EIGHT digit in test set: 0.9694444444444444\n"
     ]
    }
   ],
   "source": [
    "# training a classifier for the EIGHT digit\n",
    "alpha = 1e-2\n",
    "params_8 = np.zeros(len(digits.data[0]) + 1)\n",
    "\n",
    "max_iter = 10000\n",
    "digits_regression_model_8 = LogisticRegression()\n",
    "digits_regression_model_8.set_values(params_8, alpha, max_iter, 8)\n",
    "\n",
    "params =\\\n",
    "digits_regression_model_8.train(digits_train / 16.0, digits_label_train, 1000)\n",
    "\n",
    "#accuracy\n",
    "digits_accuracy = digits_regression_model_8.test(digits_test / 16.0, digits_label_test)\n",
    "print(f'Accuracy of prediciting an EIGHT digit in test set: {digits_accuracy}')"
   ]
  },
  {
   "cell_type": "code",
   "execution_count": 29,
   "metadata": {},
   "outputs": [
    {
     "name": "stdout",
     "output_type": "stream",
     "text": [
      "iteration: 1000\n",
      "cost: -32.71405847816719\n",
      "--------------------------------------------\n",
      "iteration: 2000\n",
      "cost: -27.60132410640159\n",
      "--------------------------------------------\n",
      "iteration: 3000\n",
      "cost: -25.099211398392903\n",
      "--------------------------------------------\n",
      "iteration: 4000\n",
      "cost: -23.513731200840418\n",
      "--------------------------------------------\n",
      "iteration: 5000\n",
      "cost: -22.375697796083596\n",
      "--------------------------------------------\n",
      "iteration: 6000\n",
      "cost: -21.494252683755875\n",
      "--------------------------------------------\n",
      "iteration: 7000\n",
      "cost: -20.775800310550466\n",
      "--------------------------------------------\n",
      "iteration: 8000\n",
      "cost: -20.168753952206853\n",
      "--------------------------------------------\n",
      "iteration: 9000\n",
      "cost: -19.64220302498558\n",
      "--------------------------------------------\n",
      "Accuracy of prediciting a NINE digit in test set: 0.9861111111111112\n"
     ]
    }
   ],
   "source": [
    "# training a classifier for the NINE digit\n",
    "alpha = 1e-2\n",
    "params_9 = np.zeros(len(digits.data[0]) + 1)\n",
    "\n",
    "max_iter = 10000\n",
    "digits_regression_model_9 = LogisticRegression()\n",
    "digits_regression_model_9.set_values(params_9, alpha, max_iter, 9)\n",
    "\n",
    "params =\\\n",
    "digits_regression_model_9.train(digits_train / 16.0, digits_label_train, 1000)\n",
    "\n",
    "#accuracy\n",
    "digits_accuracy = digits_regression_model_9.test(digits_test / 16.0, digits_label_test)\n",
    "print(f'Accuracy of prediciting a NINE digit in test set: {digits_accuracy}')"
   ]
  },
  {
   "cell_type": "code",
   "execution_count": null,
   "metadata": {},
   "outputs": [],
   "source": []
  },
  {
   "cell_type": "code",
   "execution_count": null,
   "metadata": {},
   "outputs": [],
   "source": []
  }
 ],
 "metadata": {
  "kernelspec": {
   "display_name": "Python 3",
   "language": "python",
   "name": "python3"
  },
  "language_info": {
   "codemirror_mode": {
    "name": "ipython",
    "version": 3
   },
   "file_extension": ".py",
   "mimetype": "text/x-python",
   "name": "python",
   "nbconvert_exporter": "python",
   "pygments_lexer": "ipython3",
   "version": "3.7.4"
  }
 },
 "nbformat": 4,
 "nbformat_minor": 2
}
