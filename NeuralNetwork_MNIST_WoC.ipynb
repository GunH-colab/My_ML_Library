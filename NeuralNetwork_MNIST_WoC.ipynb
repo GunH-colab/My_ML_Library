{
 "cells": [
  {
   "cell_type": "code",
   "execution_count": 1,
   "metadata": {},
   "outputs": [
    {
     "name": "stderr",
     "output_type": "stream",
     "text": [
      "Using TensorFlow backend.\n"
     ]
    }
   ],
   "source": [
    "%matplotlib inline\n",
    "%config InlineBackend.figure_format = \"retina\"\n",
    "\n",
    "import numpy as np\n",
    "\n",
    "import matplotlib.pyplot as plt\n",
    "\n",
    "from keras.datasets import mnist"
   ]
  },
  {
   "cell_type": "code",
   "execution_count": 2,
   "metadata": {},
   "outputs": [
    {
     "name": "stdout",
     "output_type": "stream",
     "text": [
      "images shape :  (60000, 28, 28)\n",
      "labels shape :  (60000,)\n"
     ]
    }
   ],
   "source": [
    "#the networks are ought to be fully connected and the input to each layer is a one-dimensional vector.\n",
    "#the images are 28x28 2D tensors, so i conveted them into 1D vectors. \n",
    "#i to converted the images with shape (60000, 28, 28) to have a shape of (60000, 784).\n",
    "\n",
    "\n",
    "\n",
    "#This way, we avoid 0 values as inputs, which are capable of preventing weight updates.\n",
    "(x_train, y_train), (x_test, y_test) = mnist.load_data()\n",
    "\n",
    "print(\"images shape : \",x_train.shape)\n",
    "print(\"labels shape : \", y_train.shape)"
   ]
  },
  {
   "cell_type": "code",
   "execution_count": 3,
   "metadata": {},
   "outputs": [],
   "source": [
    "# flattening\n",
    "#the pixels range between 0 and 255 including both bounding values.\n",
    "x_train = x_train.reshape(60000, 28*28).astype('float32')\n",
    "x_test = x_test.reshape(10000, 28*28).astype('float32')\n",
    "\n",
    "\n",
    "# normalization\n",
    "#i mapped these values into an interval from [0.01, 1] by multiplying each pixel by 0.99 / 255 and adding 0.01 to the result as bias. \n",
    "fac = 0.99 / 255\n",
    "train_imgs = np.asfarray(x_train) * fac + 0.01\n",
    "test_imgs = np.asfarray(x_test) * fac + 0.01\n",
    "train_labels = np.asfarray(y_train)\n",
    "test_labels = np.asfarray(y_test)"
   ]
  },
  {
   "cell_type": "code",
   "execution_count": 4,
   "metadata": {},
   "outputs": [
    {
     "name": "stdout",
     "output_type": "stream",
     "text": [
      "label:  0  in one-hot representation:  [1 0 0 0 0 0 0 0 0 0]\n",
      "label:  1  in one-hot representation:  [0 1 0 0 0 0 0 0 0 0]\n",
      "label:  2  in one-hot representation:  [0 0 1 0 0 0 0 0 0 0]\n",
      "label:  3  in one-hot representation:  [0 0 0 1 0 0 0 0 0 0]\n",
      "label:  4  in one-hot representation:  [0 0 0 0 1 0 0 0 0 0]\n",
      "label:  5  in one-hot representation:  [0 0 0 0 0 1 0 0 0 0]\n",
      "label:  6  in one-hot representation:  [0 0 0 0 0 0 1 0 0 0]\n",
      "label:  7  in one-hot representation:  [0 0 0 0 0 0 0 1 0 0]\n",
      "label:  8  in one-hot representation:  [0 0 0 0 0 0 0 0 1 0]\n",
      "label:  9  in one-hot representation:  [0 0 0 0 0 0 0 0 0 1]\n"
     ]
    }
   ],
   "source": [
    "# one hot encoding samples\n",
    "# through hours of surfing the internet i found that one hot encoding is a process by which \n",
    "# categorical variables are converted to form that could be provided to algorithm to do a better job in prediction.\n",
    "\n",
    "lr = np.arange(10)\n",
    "\n",
    "for label in range(10):\n",
    "    one_hot = (lr==label).astype(np.int)\n",
    "    print(\"label: \", label, \" in one-hot representation: \", one_hot)"
   ]
  },
  {
   "cell_type": "code",
   "execution_count": 5,
   "metadata": {},
   "outputs": [
    {
     "name": "stdout",
     "output_type": "stream",
     "text": [
      "5.0\n",
      "[0.01 0.01 0.01 0.01 0.01 0.99 0.01 0.01 0.01 0.01]\n"
     ]
    }
   ],
   "source": [
    "# one hot encoding our labels\n",
    "train_targets = np.array(train_labels).astype(np.int)\n",
    "train_labels_one_hot = np.eye(np.max(train_targets) + 1)[train_targets]\n",
    "\n",
    "test_targets = np.array(test_labels).astype(np.int)\n",
    "test_labels_one_hot = np.eye(np.max(test_targets) + 1)[test_targets]\n",
    "\n",
    "\n",
    "train_labels_one_hot[train_labels_one_hot==0] = 0.01\n",
    "train_labels_one_hot[train_labels_one_hot==1] = 0.99\n",
    "test_labels_one_hot[test_labels_one_hot==0] = 0.01\n",
    "test_labels_one_hot[test_labels_one_hot==1] = 0.99\n",
    "\n",
    "print(train_labels[0])          # 5.0\n",
    "print(train_labels_one_hot[0])  # [0.01 0.01 0.01 0.01 0.01 0.99 0.01 0.01 0.01 0.01]"
   ]
  },
  {
   "cell_type": "code",
   "execution_count": 6,
   "metadata": {},
   "outputs": [
    {
     "data": {
      "image/png": "[encoded data removed]",
      "text/plain": [
       "<Figure size 720x288 with 10 Axes>"
      ]
     },
     "metadata": {
      "image/png": {
       "height": 248,
       "width": 575
      }
     },
     "output_type": "display_data"
    }
   ],
   "source": [
    "fig = plt.figure(figsize=(10, 4)) #printing some of our data samples from our loaded MNIST datasets\n",
    "\n",
    "for idx in np.arange(10):\n",
    "    ax = fig.add_subplot(2, 10/2, idx+1, xticks=[], yticks=[])\n",
    "    ax.imshow(train_imgs[idx].reshape(28, 28), cmap='gray')\n",
    "    ax.set_title(str(y_train[idx]))"
   ]
  },
  {
   "cell_type": "code",
   "execution_count": 7,
   "metadata": {},
   "outputs": [],
   "source": [
    "def sigmoid(x):\n",
    "    return 1 / ( 1 + np.exp(-x)) \n",
    "\n",
    "\n",
    "def softmax(x):\n",
    "    return np.exp(x)/np.sum(np.exp(x), axis=1, keepdims=True) #solely to calculate probability distribution\n",
    "\n",
    "# visualizing image and probability prediction\n",
    "def view_classify(img, ps):\n",
    "    ps = np.squeeze(ps)\n",
    "    fig, (ax1, ax2) = plt.subplots(figsize=(6,9), ncols=2)\n",
    "    ax1.imshow(img.reshape(28, 28))\n",
    "    ax1.set_title(ps.argmax())\n",
    "    ax1.axis('off')\n",
    "    ax2.barh(np.arange(10), ps)\n",
    "    ax2.set_aspect(0.1)\n",
    "    ax2.set_yticks(np.arange(10))\n",
    "    ax2.set_yticklabels(np.arange(10))\n",
    "    ax2.set_title('Class Probability')\n",
    "    ax2.set_xlim(0, 1.1)\n",
    "    plt.tight_layout()"
   ]
  },
  {
   "cell_type": "code",
   "execution_count": 8,
   "metadata": {},
   "outputs": [],
   "source": [
    "class NeuralNetwork:\n",
    "    def __init__(self):\n",
    "        \n",
    "        self.lr = 0.001\n",
    "        \n",
    "        self.w1 = np.random.randn(784, 256) \n",
    "        self.b1 = np.zeros((1, 256)) \n",
    "        \n",
    "        self.w2 = np.random.randn(256, 128)\n",
    "        self.b2 = np.zeros((1, 128)) \n",
    "        \n",
    "        self.w3 = np.random.randn(128, 10)\n",
    "        self.b3 = np.zeros((1, 10))\n",
    "        \n",
    "        \n",
    "    def feedforward(self):        \n",
    "        z1 = np.dot(self.x, self.w1) + self.b1\n",
    "        self.a1 = sigmoid(z1)\n",
    "\n",
    "        z2 = np.dot(self.a1, self.w2) + self.b2\n",
    "        self.a2 = sigmoid(z2)\n",
    "\n",
    "        z3 = np.dot(self.a2, self.w3) + self.b3\n",
    "        self.a3 = softmax(z3)\n",
    "\n",
    "        \n",
    "        \n",
    "    def backprop(self):\n",
    "        \n",
    "        output_errors = self.y - self.a3\n",
    "        \n",
    "        a3_delta = output_errors * (self.a3 * (1.0 - self.a3))  # w3\n",
    "        \n",
    "        z2_delta = np.dot(output_errors, self.w3.T)\n",
    "        a2_delta = z2_delta * (self.a2 * (1.0 - self.a2)) # w2\n",
    "        \n",
    "        z1_delta = np.dot(z2_delta, self.w2.T)\n",
    "        a1_delta = z1_delta * (self.a1 * (1.0 - self.a1)) # w1\n",
    "        \n",
    "        self.w3 += self.lr * np.dot(self.a2.T, a3_delta)\n",
    "        self.b3 += self.lr * np.sum(a3_delta, axis=0, keepdims=True)\n",
    "        \n",
    "        self.w2 += self.lr * np.dot(self.a1.T, a2_delta)\n",
    "        self.b2 += self.lr * np.sum(a2_delta, axis=0, keepdims=True)\n",
    "        \n",
    "        self.w1 += self.lr * np.dot(self.x.T, a1_delta)\n",
    "        self.b1 += self.lr * np.sum(a1_delta, axis=0, keepdims=True)\n",
    "    \n",
    "    \n",
    "    def train(self, x, y):\n",
    "        \n",
    "        '''input_vector and target_vector can \n",
    "        be tuple, list or ndarray'''\n",
    "        \n",
    "        self.x = np.array(x, ndmin=2)\n",
    "        self.y = np.array(y, ndmin=2)\n",
    "        self.feedforward()\n",
    "        self.backprop()\n",
    "    \n",
    "    def predict(self, data):\n",
    "        self.x = np.array(data, ndmin=2)\n",
    "        self.feedforward()\n",
    "        return self.a3\n",
    "    \n",
    "    \n",
    "    def confusion_matrix(self, x, y):\n",
    "        cm = np.zeros((10, 10), int)\n",
    "        for i in range(len(x)):\n",
    "            res = self.predict(x[i])\n",
    "            res_max = res.argmax()\n",
    "            target = y[i]\n",
    "            cm[res_max, int(target)] += 1\n",
    "        return cm\n",
    "    \n",
    "    \n",
    "    def precision(self, y, confusion_matrix):\n",
    "        col = confusion_matrix[:, y]\n",
    "        return confusion_matrix[y, y]/col.sum()\n",
    "    \n",
    "    \n",
    "    def recall(self, y, confusion_matrix):\n",
    "        row = confusion_matrix[y, :]\n",
    "        return confusion_matrix[y, y]/row.sum()\n",
    "    \n",
    "    \n",
    "    def evaluate(self, x, y):\n",
    "        corrects, wrongs = 0, 0\n",
    "        for i in range(len(x)):\n",
    "            res = self.predict(x[i])\n",
    "            res_max = res.argmax()\n",
    "            if res_max == y[i]:\n",
    "                corrects += 1\n",
    "            else:\n",
    "                wrongs += 1\n",
    "        return corrects, wrongs"
   ]
  },
  {
   "cell_type": "code",
   "execution_count": 9,
   "metadata": {},
   "outputs": [
    {
     "name": "stdout",
     "output_type": "stream",
     "text": [
      "epoch:  1\n",
      "accruracy train:  0.8312\n",
      "accruracy test : 0.8273\n",
      "==================================================\n",
      "digit:  0 precision : 0.8970116495019416\n",
      "digit:  0 recall : 0.8959527824620573\n",
      "================================================================================\n",
      "digit:  1 precision : 0.9513497478493029\n",
      "digit:  1 recall : 0.8892277831692776\n",
      "================================================================================\n",
      "digit:  2 precision : 0.7851628063108426\n",
      "digit:  2 recall : 0.8798194470566109\n",
      "================================================================================\n",
      "digit:  3 precision : 0.7953025607568096\n",
      "digit:  3 recall : 0.7756920139993637\n",
      "================================================================================\n",
      "digit:  4 precision : 0.8322492297158507\n",
      "digit:  4 recall : 0.8405947441217151\n",
      "================================================================================\n",
      "digit:  5 precision : 0.7924737133370227\n",
      "digit:  5 recall : 0.6968369829683698\n",
      "================================================================================\n",
      "digit:  6 precision : 0.895234876647516\n",
      "digit:  6 recall : 0.8881810561609388\n",
      "================================================================================\n",
      "digit:  7 precision : 0.8205905826017558\n",
      "digit:  7 recall : 0.8912968099861304\n",
      "================================================================================\n",
      "digit:  8 precision : 0.7140659716287814\n",
      "digit:  8 recall : 0.8317738403344614\n",
      "================================================================================\n",
      "digit:  9 precision : 0.8095478231635569\n",
      "digit:  9 recall : 0.7353794472438541\n",
      "================================================================================\n"
     ]
    }
   ],
   "source": [
    "model = NeuralNetwork()\n",
    "\n",
    "epochs = 1\n",
    "\n",
    "for epoch in range(epochs):  \n",
    "    print(\"epoch: \", epoch+1)\n",
    "    for i in range(len(train_imgs)):\n",
    "        model.train(train_imgs[i], train_labels_one_hot[i])\n",
    "        \n",
    "    corrects, wrongs = model.evaluate(train_imgs, train_labels)\n",
    "    print(\"accruracy train: \", corrects / ( corrects + wrongs))\n",
    "    corrects, wrongs = model.evaluate(test_imgs, test_labels)\n",
    "    print(\"accruracy test :\", corrects / ( corrects + wrongs))\n",
    "    print(\"=\"*50)\n",
    "    cm = model.confusion_matrix(train_imgs, train_labels)\n",
    "    for i in range(10):\n",
    "        print(\"digit: \", i, \"precision :\", model.precision(i, cm))\n",
    "        print(\"digit: \", i, \"recall :\", model.recall(i, cm))\n",
    "        print(\"=\"*80)"
   ]
  },
  {
   "cell_type": "code",
   "execution_count": null,
   "metadata": {},
   "outputs": [],
   "source": []
  }
 ],
 "metadata": {
  "kernelspec": {
   "display_name": "Python 3",
   "language": "python",
   "name": "python3"
  },
  "language_info": {
   "codemirror_mode": {
    "name": "ipython",
    "version": 3
   },
   "file_extension": ".py",
   "mimetype": "text/x-python",
   "name": "python",
   "nbconvert_exporter": "python",
   "pygments_lexer": "ipython3",
   "version": "3.7.4"
  }
 },
 "nbformat": 4,
 "nbformat_minor": 2
}
