{
 "cells": [
  {
   "cell_type": "code",
   "execution_count": 1,
   "metadata": {},
   "outputs": [],
   "source": [
    "from sklearn import datasets #only to import the MNIST dataset onto our notebook\n",
    "import numpy as np"
   ]
  },
  {
   "cell_type": "code",
   "execution_count": 2,
   "metadata": {},
   "outputs": [],
   "source": [
    "mnist= datasets.load_digits()"
   ]
  },
  {
   "cell_type": "code",
   "execution_count": 3,
   "metadata": {},
   "outputs": [
    {
     "data": {
      "text/plain": [
       "dict_keys(['data', 'target', 'target_names', 'images', 'DESCR'])"
      ]
     },
     "execution_count": 3,
     "metadata": {},
     "output_type": "execute_result"
    }
   ],
   "source": [
    "mnist.keys() #printing the contents"
   ]
  },
  {
   "cell_type": "code",
   "execution_count": 4,
   "metadata": {},
   "outputs": [
    {
     "data": {
      "text/plain": [
       "{0, 1, 2, 3, 4, 5, 6, 7, 8, 9}"
      ]
     },
     "execution_count": 4,
     "metadata": {},
     "output_type": "execute_result"
    }
   ],
   "source": [
    "set(mnist.target) # viewing the labels"
   ]
  },
  {
   "cell_type": "code",
   "execution_count": 5,
   "metadata": {},
   "outputs": [
    {
     "data": {
      "text/plain": [
       "(1797, 64)"
      ]
     },
     "execution_count": 5,
     "metadata": {},
     "output_type": "execute_result"
    }
   ],
   "source": [
    "mnist.data.shape"
   ]
  },
  {
   "cell_type": "code",
   "execution_count": 6,
   "metadata": {},
   "outputs": [
    {
     "data": {
      "text/plain": [
       "(1797, 8, 8)"
      ]
     },
     "execution_count": 6,
     "metadata": {},
     "output_type": "execute_result"
    }
   ],
   "source": [
    "mnist.images.shape"
   ]
  },
  {
   "cell_type": "code",
   "execution_count": 7,
   "metadata": {},
   "outputs": [],
   "source": [
    "y_all=mnist.target.copy()"
   ]
  },
  {
   "cell_type": "code",
   "execution_count": 8,
   "metadata": {},
   "outputs": [],
   "source": [
    "\n",
    "for i in range(len(y_all)):\n",
    "    if(y_all[i]==1):\n",
    "        y_all[i]=True\n",
    "    elif(y_all[i]==7):\n",
    "        y_all[i]=True\n",
    "    else:\n",
    "        y_all[i]=False"
   ]
  },
  {
   "cell_type": "code",
   "execution_count": 9,
   "metadata": {},
   "outputs": [],
   "source": [
    "rows=(y_all==True)\n"
   ]
  },
  {
   "cell_type": "code",
   "execution_count": 10,
   "metadata": {},
   "outputs": [],
   "source": [
    "\n",
    "x=mnist.data[rows]\n",
    "y_actual=mnist.target[rows]"
   ]
  },
  {
   "cell_type": "code",
   "execution_count": 11,
   "metadata": {},
   "outputs": [],
   "source": [
    "y=y_actual.copy()\n",
    "for i in range(len(y_actual)):\n",
    "    if(y_actual[i]==1):\n",
    "        y[i]=0\n",
    "    else:\n",
    "        y[i]=1\n",
    "\n",
    "        "
   ]
  },
  {
   "cell_type": "code",
   "execution_count": 12,
   "metadata": {},
   "outputs": [],
   "source": [
    "\n",
    "from sklearn.model_selection import train_test_split #to split the data into train and test set. NOTE ! sklearn wont be used while setting up the model\n",
    "x_train, x_test ,y_train ,y_test=train_test_split(x, y)"
   ]
  },
  {
   "cell_type": "code",
   "execution_count": 13,
   "metadata": {},
   "outputs": [],
   "source": [
    "x_train=x_train/256.0 # normalizing for easy computing\n"
   ]
  },
  {
   "cell_type": "code",
   "execution_count": 14,
   "metadata": {},
   "outputs": [],
   "source": [
    "y_train=y_train.reshape(-1,1)"
   ]
  },
  {
   "cell_type": "code",
   "execution_count": 15,
   "metadata": {},
   "outputs": [],
   "source": [
    "x_test=x_test/256.0"
   ]
  },
  {
   "cell_type": "code",
   "execution_count": 16,
   "metadata": {},
   "outputs": [],
   "source": [
    "#setting up the NN model \n",
    "def sig(z):\n",
    "    return 1/(1+np.exp(-z))"
   ]
  },
  {
   "cell_type": "code",
   "execution_count": 17,
   "metadata": {},
   "outputs": [],
   "source": [
    "\n",
    "def derivSig(z):\n",
    "    return sig(z)*(1 - sig(z))"
   ]
  },
  {
   "cell_type": "code",
   "execution_count": 18,
   "metadata": {},
   "outputs": [],
   "source": [
    "#two layers\n",
    "units_hidden_layer1= 50\n",
    "units_hidden_layer2= 30"
   ]
  },
  {
   "cell_type": "code",
   "execution_count": 19,
   "metadata": {},
   "outputs": [],
   "source": [
    "\n",
    "wh1 = 2 * np.random.random((64, units_hidden_layer1)) - 1\n",
    "bh1 = np.random.random((1, units_hidden_layer1))* 2 - 1\n",
    "wh2 = 2 * np.random.random((units_hidden_layer1 , units_hidden_layer2)) - 1\n",
    "bh2 = np.random.random((1, units_hidden_layer2))* 2 - 1\n",
    "wo = 2 * np.random.random((units_hidden_layer2,1)) - 1\n",
    "bo = np.random.random([1,1])* 2 - 1"
   ]
  },
  {
   "cell_type": "code",
   "execution_count": 20,
   "metadata": {},
   "outputs": [],
   "source": [
    "def forward(x, wh1, wh2, bh1, bh2, wo, bo):\n",
    "    output0=x\n",
    "    input_hidden_layer1 = output0.dot(wh1)+bh1\n",
    "    output_hidden_layer1= sig(input_hidden_layer1)\n",
    "    input_hidden_layer2 = output_hidden_layer1.dot(wh2) + bh2\n",
    "    output_hidden_layer2= sig(input_hidden_layer2)\n",
    "    input_output_layer = np.dot(output_hidden_layer2 , wo)+bo\n",
    "    output= sig(input_output_layer)\n",
    "    return output"
   ]
  },
  {
   "cell_type": "code",
   "execution_count": 21,
   "metadata": {},
   "outputs": [],
   "source": [
    "def train(x, y, wh1, wh2, bh1, bh2, wo, bo, lr, iterations):\n",
    "    output0=x\n",
    "    input_hidden_layer1 = output0.dot(wh1)+bh1\n",
    "    output_hidden_layer1= sig(input_hidden_layer1)\n",
    "    input_hidden_layer2 = output_hidden_layer1.dot(wh2) + bh2\n",
    "    output_hidden_layer2= sig(input_hidden_layer2)\n",
    "    input_output_layer = np.dot(output_hidden_layer2 , wo)+bo\n",
    "    output= sig(input_output_layer)\n",
    "    \n",
    "    first_term_output=output-y\n",
    "    sec_term_output=derivSig(input_output_layer)\n",
    "    first_two_terms_output=first_term_output * sec_term_output\n",
    "    \n",
    "    sec_term_hidden2=derivSig(input_hidden_layer2 )\n",
    "    first_term_hidden2=first_two_terms_output.dot(wo.T)\n",
    "    first_two_terms_hidden2=first_term_hidden2 * sec_term_hidden2\n",
    "    \n",
    "    sec_term_hidden1= derivSig( input_hidden_layer1 )\n",
    "    first_term_hidden1=first_two_terms_hidden2.dot(wh2.T)\n",
    "    first_two_terms_hidden1=sec_term_hidden1 * first_term_hidden1\n",
    "    \n",
    "    changes_wo = np.dot(output_hidden_layer2.T, first_two_terms_output)\n",
    "    changes_wh2 = np.dot(output_hidden_layer1.T, first_two_terms_hidden2)\n",
    "    changes_wh1 = np.dot(output0.T, first_two_terms_hidden1)\n",
    "    \n",
    "    wh1 = wh1 - lr * changes_wh1\n",
    "    wh2 = wh2 - lr * changes_wh2\n",
    "    wo  = wo  - lr * changes_wo\n",
    "\n",
    "    changes_bh1 = np.sum(first_two_terms_hidden1, axis = 0)\n",
    "    changes_bh2 = np.sum(first_two_terms_hidden2, axis = 0)\n",
    "    changes_bo = np.sum(first_two_terms_output, axis = 0)\n",
    "\n",
    "    bh1 = bh1 - lr * changes_bh1\n",
    "    bh2 = bh2 - lr * changes_bh2\n",
    "    bo = bo - lr*changes_bo\n",
    "    return wh1 , wh2, bh1, bh2 ,wo ,bo"
   ]
  },
  {
   "cell_type": "code",
   "execution_count": 22,
   "metadata": {},
   "outputs": [],
   "source": [
    "wh1 , wh2, bh1, bh2 ,wo ,bo = train(x_train, y_train, wh1, wh2, bh1, bh2, wo, bo, lr=0.001, iterations=100000)"
   ]
  },
  {
   "cell_type": "code",
   "execution_count": 23,
   "metadata": {},
   "outputs": [],
   "source": [
    "obj=forward(x_test,wh1, wh2, bh1, bh2, wo, bo)"
   ]
  },
  {
   "cell_type": "code",
   "execution_count": 24,
   "metadata": {},
   "outputs": [],
   "source": [
    "\n",
    "from sklearn.metrics import accuracy_score #using in built score-card"
   ]
  },
  {
   "cell_type": "code",
   "execution_count": 25,
   "metadata": {},
   "outputs": [],
   "source": [
    "def predict(array):\n",
    "    y_pred=[]\n",
    "    for i in range(len(array)):\n",
    "        if(array[i]<0.5):\n",
    "            y_pred.append(0)\n",
    "        else:\n",
    "            y_pred.append(1)\n",
    "    return y_pred"
   ]
  },
  {
   "cell_type": "code",
   "execution_count": 26,
   "metadata": {},
   "outputs": [],
   "source": [
    "y_pred_without_scaling=predict(obj)"
   ]
  },
  {
   "cell_type": "code",
   "execution_count": 27,
   "metadata": {},
   "outputs": [
    {
     "data": {
      "text/plain": [
       "0.5164835164835165"
      ]
     },
     "execution_count": 27,
     "metadata": {},
     "output_type": "execute_result"
    }
   ],
   "source": [
    "\n",
    "accuracy_score(y_pred_without_scaling,y_test)"
   ]
  },
  {
   "cell_type": "code",
   "execution_count": 28,
   "metadata": {},
   "outputs": [
    {
     "data": {
      "text/plain": [
       "(1797, 8, 8)"
      ]
     },
     "execution_count": 28,
     "metadata": {},
     "output_type": "execute_result"
    }
   ],
   "source": [
    "mnist.images.shape"
   ]
  },
  {
   "cell_type": "code",
   "execution_count": 29,
   "metadata": {},
   "outputs": [
    {
     "data": {
      "text/plain": [
       "0.6373626373626373"
      ]
     },
     "execution_count": 29,
     "metadata": {},
     "output_type": "execute_result"
    }
   ],
   "source": [
    "from sklearn.preprocessing import StandardScaler\n",
    "scaler=StandardScaler()\n",
    "\n",
    "x_train_scaled=scaler.fit_transform(x_train)\n",
    "x_test_scaled=scaler.transform(x_test)\n",
    "\n",
    "wh1 , wh2, bh1, bh2 ,wo ,bo = train(x_train_scaled, y_train, wh1, wh2, bh1, bh2, wo, bo, lr=0.01, iterations=10000)\n",
    "\n",
    "array_scaled=forward(x_test_scaled,wh1, wh2, bh1, bh2, wo, bo)\n",
    "\n",
    "y_pred_scaled=predict(array_scaled)\n",
    "\n",
    "accuracy_score(y_test,y_pred_scaled)"
   ]
  },
  {
   "cell_type": "code",
   "execution_count": null,
   "metadata": {},
   "outputs": [],
   "source": []
  }
 ],
 "metadata": {
  "kernelspec": {
   "display_name": "Python 3",
   "language": "python",
   "name": "python3"
  },
  "language_info": {
   "codemirror_mode": {
    "name": "ipython",
    "version": 3
   },
   "file_extension": ".py",
   "mimetype": "text/x-python",
   "name": "python",
   "nbconvert_exporter": "python",
   "pygments_lexer": "ipython3",
   "version": "3.7.4"
  }
 },
 "nbformat": 4,
 "nbformat_minor": 2
}
