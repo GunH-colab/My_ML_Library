{
 "cells": [
  {
   "cell_type": "code",
   "execution_count": 1,
   "metadata": {},
   "outputs": [],
   "source": [
    "#importing the necessary libraries\n",
    "\n",
    "from sklearn.model_selection import train_test_split #to split the datasets into train and test sets \n",
    "from sklearn.neighbors import KNeighborsClassifier\n",
    "from sklearn import datasets\n",
    "import numpy as np\n",
    "import matplotlib.pyplot as plt"
   ]
  },
  {
   "cell_type": "code",
   "execution_count": 2,
   "metadata": {},
   "outputs": [],
   "source": [
    "# loading the MNIST digits dataset\n",
    "mnist = datasets.load_digits()\n",
    "\n",
    "# taking the MNIST data and setting up the training and testing sets, using 75% of the\n",
    "# data for training and 25% for testing\n"
   ]
  },
  {
   "cell_type": "code",
   "execution_count": 3,
   "metadata": {},
   "outputs": [],
   "source": [
    "(train_x, test_x, train_y, test_y) = train_test_split(np.array(mnist.data), mnist.target, test_size = 0.25, random_state = 2)\n"
   ]
  },
  {
   "cell_type": "code",
   "execution_count": 4,
   "metadata": {},
   "outputs": [],
   "source": [
    "# taking 10% of the training data and using that for validation\n",
    "\n",
    "(train_x, val_x, train_y, val_y) = train_test_split(train_x, train_y, test_size = 0.1, random_state = 4)"
   ]
  },
  {
   "cell_type": "code",
   "execution_count": 5,
   "metadata": {},
   "outputs": [
    {
     "name": "stdout",
     "output_type": "stream",
     "text": [
      "training data points: 1212\n",
      "validation data points: 135\n",
      "testing data points: 450\n"
     ]
    }
   ],
   "source": [
    "# showing the sizes of each split\n",
    "\n",
    "print(\"training data points: {}\".format(len(train_y)))\n",
    "print(\"validation data points: {}\".format(len(val_y)))\n",
    "print(\"testing data points: {}\".format(len(test_y)))\n"
   ]
  },
  {
   "cell_type": "code",
   "execution_count": 6,
   "metadata": {},
   "outputs": [],
   "source": [
    "# initializing the values of k for our k-Nearest Neighbor classifier along with the\n",
    "# list of accuracies for each value of k\n",
    "\n",
    "kVals = range(1, 30, 2)\n",
    "accuracies = []"
   ]
  },
  {
   "cell_type": "code",
   "execution_count": 7,
   "metadata": {},
   "outputs": [
    {
     "name": "stdout",
     "output_type": "stream",
     "text": [
      "k=1, accuracy=98.52%\n",
      "k=3, accuracy=98.52%\n",
      "k=5, accuracy=99.26%\n",
      "k=7, accuracy=100.00%\n",
      "k=9, accuracy=100.00%\n",
      "k=11, accuracy=99.26%\n",
      "k=13, accuracy=98.52%\n",
      "k=15, accuracy=99.26%\n",
      "k=17, accuracy=97.78%\n",
      "k=19, accuracy=97.78%\n",
      "k=21, accuracy=97.04%\n",
      "k=23, accuracy=97.78%\n",
      "k=25, accuracy=97.78%\n",
      "k=27, accuracy=97.78%\n",
      "k=29, accuracy=97.04%\n"
     ]
    }
   ],
   "source": [
    "# iterating various values of `k` for the k-Nearest Neighbor classifier\n",
    "\n",
    "for k in range(1, 30, 2):\n",
    "          # train the k-Nearest Neighbor classifier with the current value of `k`\n",
    "          model = KNeighborsClassifier(n_neighbors=k)\n",
    "          model.fit(train_x, train_y)\n",
    "          \n",
    "          # evaluating the model and updating the accuracies list\n",
    "          score = model.score(val_x, val_y)\n",
    "          print(\"k=%d, accuracy=%.2f%%\" % (k, score * 100))\n",
    "          accuracies.append(score)"
   ]
  },
  {
   "cell_type": "code",
   "execution_count": 8,
   "metadata": {},
   "outputs": [
    {
     "name": "stdout",
     "output_type": "stream",
     "text": [
      "k=7 achieved highest accuracy of 100.00% on validation data\n"
     ]
    }
   ],
   "source": [
    "# find the value of k that has the largest accuracy\n",
    "\n",
    "i = np.argmax(accuracies)\n",
    "print(\"k=%d achieved highest accuracy of %.2f%% on validation data\" % (kVals[i],\n",
    "accuracies[i] * 100))\n",
    "\n"
   ]
  },
  {
   "cell_type": "code",
   "execution_count": 9,
   "metadata": {},
   "outputs": [
    {
     "data": {
      "text/plain": [
       "[0.9851851851851852,\n",
       " 0.9851851851851852,\n",
       " 0.9925925925925926,\n",
       " 1.0,\n",
       " 1.0,\n",
       " 0.9925925925925926,\n",
       " 0.9851851851851852,\n",
       " 0.9925925925925926,\n",
       " 0.9777777777777777,\n",
       " 0.9777777777777777,\n",
       " 0.9703703703703703,\n",
       " 0.9777777777777777,\n",
       " 0.9777777777777777,\n",
       " 0.9777777777777777,\n",
       " 0.9703703703703703]"
      ]
     },
     "execution_count": 9,
     "metadata": {},
     "output_type": "execute_result"
    }
   ],
   "source": [
    "accuracies"
   ]
  },
  {
   "cell_type": "code",
   "execution_count": 10,
   "metadata": {},
   "outputs": [
    {
     "name": "stdout",
     "output_type": "stream",
     "text": [
      "0.9841975308641975\n"
     ]
    }
   ],
   "source": [
    "import statistics as stat\n",
    "\n",
    "AverageAccuracy = stat.mean(accuracies)\n",
    "\n",
    "print(AverageAccuracy)"
   ]
  },
  {
   "cell_type": "code",
   "execution_count": null,
   "metadata": {},
   "outputs": [],
   "source": []
  },
  {
   "cell_type": "code",
   "execution_count": null,
   "metadata": {},
   "outputs": [],
   "source": []
  }
 ],
 "metadata": {
  "kernelspec": {
   "display_name": "Python 3",
   "language": "python",
   "name": "python3"
  },
  "language_info": {
   "codemirror_mode": {
    "name": "ipython",
    "version": 3
   },
   "file_extension": ".py",
   "mimetype": "text/x-python",
   "name": "python",
   "nbconvert_exporter": "python",
   "pygments_lexer": "ipython3",
   "version": "3.7.4"
  }
 },
 "nbformat": 4,
 "nbformat_minor": 2
}
